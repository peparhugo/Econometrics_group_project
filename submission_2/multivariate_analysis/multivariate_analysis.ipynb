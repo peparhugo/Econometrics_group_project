{
 "cells": [
  {
   "cell_type": "code",
   "execution_count": 1,
   "metadata": {},
   "outputs": [],
   "source": [
    "import pandas as pd\n",
    "import os\n",
    "import numpy as np"
   ]
  },
  {
   "cell_type": "code",
   "execution_count": 2,
   "metadata": {},
   "outputs": [],
   "source": [
    "#load csv files into dataframes\n",
    "data_frames = {}\n",
    "for file in os.listdir():\n",
    "    if file.find('.csv')!=-1:\n",
    "        try:\n",
    "            data_frames[file] = pd.read_csv(file)\n",
    "        except:\n",
    "            print(file)"
   ]
  },
  {
   "cell_type": "code",
   "execution_count": 3,
   "metadata": {},
   "outputs": [],
   "source": [
    "#load CAD/USD exchange rate\n",
    "exchange_rate = data_frames['AEXCAUS.csv']\n",
    "exchange_rate['DATE']=exchange_rate['DATE'].astype(str).str[0:4].astype(int)\n",
    "exchange_rate = exchange_rate.set_index('DATE')"
   ]
  },
  {
   "cell_type": "code",
   "execution_count": 4,
   "metadata": {},
   "outputs": [
    {
     "name": "stdout",
     "output_type": "stream",
     "text": [
      "Test Statistic                 -3.366285\n",
      "p-value                         0.012163\n",
      "#Lags Used                      9.000000\n",
      "Number of Observations Used    38.000000\n",
      "Critical Value (1%)            -3.615509\n",
      "Critical Value (5%)            -2.941262\n",
      "Critical Value (10%)           -2.609200\n",
      "dtype: float64\n"
     ]
    }
   ],
   "source": [
    "#test unit root of CAD/USD exchange\n",
    "from statsmodels.tsa.stattools import adfuller\n",
    "\n",
    "#Test1\n",
    "dftest_1 = adfuller(exchange_rate['AEXCAUS'].diff().dropna())\n",
    "dftest_1_output = pd.Series(dftest_1[0:4], index=['Test Statistic','p-value','#Lags Used','Number of Observations Used'])\n",
    "for key, value in dftest_1[4].items():\n",
    "    dftest_1_output['Critical Value (%s)'%key] = value\n",
    "print(dftest_1_output)"
   ]
  },
  {
   "cell_type": "code",
   "execution_count": 5,
   "metadata": {},
   "outputs": [],
   "source": [
    "#get cpi data\n",
    "cpi_ir = data_frames['DP_LIVE_10102020213754370.csv']\\\n",
    "[data_frames['DP_LIVE_10102020213754370.csv'].LOCATION!='OECD']\\\n",
    ".pivot(index='TIME',columns='LOCATION',values='Value')\\\n",
    ".dropna()"
   ]
  },
  {
   "cell_type": "code",
   "execution_count": 6,
   "metadata": {},
   "outputs": [],
   "source": [
    "cpi_ir['CPI_IR']=cpi_ir['CAN']-cpi_ir['USA']"
   ]
  },
  {
   "cell_type": "code",
   "execution_count": 7,
   "metadata": {},
   "outputs": [
    {
     "name": "stdout",
     "output_type": "stream",
     "text": [
      "Test Statistic                -8.235674e+00\n",
      "p-value                        5.899296e-13\n",
      "#Lags Used                     2.000000e+00\n",
      "Number of Observations Used    6.000000e+01\n",
      "Critical Value (1%)           -3.544369e+00\n",
      "Critical Value (5%)           -2.911073e+00\n",
      "Critical Value (10%)          -2.593190e+00\n",
      "dtype: float64\n"
     ]
    }
   ],
   "source": [
    "#test unit root  of consumer price index \n",
    "dftest_1 = adfuller(cpi_ir['CPI_IR'].diff().dropna())\n",
    "dftest_1_output = pd.Series(dftest_1[0:4], index=['Test Statistic','p-value','#Lags Used','Number of Observations Used'])\n",
    "for key, value in dftest_1[4].items():\n",
    "    dftest_1_output['Critical Value (%s)'%key] = value\n",
    "print(dftest_1_output)"
   ]
  },
  {
   "cell_type": "code",
   "execution_count": 8,
   "metadata": {},
   "outputs": [],
   "source": [
    "#get real itnerest rate data\n",
    "ri_ir = data_frames['DP_LIVE_10102020214019137.csv']\\\n",
    "[data_frames['DP_LIVE_10102020214019137.csv'].LOCATION!='OECD']\\\n",
    ".pivot(index='TIME',columns='LOCATION',values='Value')\\\n",
    ".dropna()\n",
    "ri_ir['RI_IR']=ri_ir['CAN']-ri_ir['USA']"
   ]
  },
  {
   "cell_type": "code",
   "execution_count": 9,
   "metadata": {},
   "outputs": [
    {
     "name": "stdout",
     "output_type": "stream",
     "text": [
      "Test Statistic                -6.569194e+00\n",
      "p-value                        8.015387e-09\n",
      "#Lags Used                     2.000000e+00\n",
      "Number of Observations Used    6.100000e+01\n",
      "Critical Value (1%)           -3.542413e+00\n",
      "Critical Value (5%)           -2.910236e+00\n",
      "Critical Value (10%)          -2.592745e+00\n",
      "dtype: float64\n"
     ]
    }
   ],
   "source": [
    "#test unit root of real interest rate\n",
    "dftest_1 = adfuller(ri_ir['RI_IR'].diff().dropna())\n",
    "dftest_1_output = pd.Series(dftest_1[0:4], index=['Test Statistic','p-value','#Lags Used','Number of Observations Used'])\n",
    "for key, value in dftest_1[4].items():\n",
    "    dftest_1_output['Critical Value (%s)'%key] = value\n",
    "print(dftest_1_output)"
   ]
  },
  {
   "cell_type": "code",
   "execution_count": 10,
   "metadata": {},
   "outputs": [],
   "source": [
    "#get terms of trade data\n",
    "tot = data_frames['DP_LIVE_10102020213123395.csv']\\\n",
    "[data_frames['DP_LIVE_10102020213123395.csv'].LOCATION!='OECD']\\\n",
    ".pivot(index='TIME',columns='LOCATION',values='Value')\\\n",
    ".dropna()\n",
    "tot['tot']=tot['CAN']\n"
   ]
  },
  {
   "cell_type": "code",
   "execution_count": 11,
   "metadata": {},
   "outputs": [
    {
     "name": "stdout",
     "output_type": "stream",
     "text": [
      "Test Statistic                -5.771076e+00\n",
      "p-value                        5.390671e-07\n",
      "#Lags Used                     1.000000e+00\n",
      "Number of Observations Used    4.700000e+01\n",
      "Critical Value (1%)           -3.577848e+00\n",
      "Critical Value (5%)           -2.925338e+00\n",
      "Critical Value (10%)          -2.600774e+00\n",
      "dtype: float64\n"
     ]
    }
   ],
   "source": [
    "#test unit root of difference of terms of trade CAN\n",
    "dftest_1 = adfuller(np.log(tot['tot']).diff().dropna())\n",
    "dftest_1_output = pd.Series(dftest_1[0:4], index=['Test Statistic','p-value','#Lags Used','Number of Observations Used'])\n",
    "for key, value in dftest_1[4].items():\n",
    "    dftest_1_output['Critical Value (%s)'%key] = value\n",
    "print(dftest_1_output)"
   ]
  },
  {
   "cell_type": "code",
   "execution_count": 12,
   "metadata": {},
   "outputs": [
    {
     "name": "stdout",
     "output_type": "stream",
     "text": [
      "Test Statistic                -6.155867e+00\n",
      "p-value                        7.371393e-08\n",
      "#Lags Used                     0.000000e+00\n",
      "Number of Observations Used    2.600000e+01\n",
      "Critical Value (1%)           -3.711212e+00\n",
      "Critical Value (5%)           -2.981247e+00\n",
      "Critical Value (10%)          -2.630095e+00\n",
      "dtype: float64\n"
     ]
    }
   ],
   "source": [
    "# difference between CAD and USA federal debt as percentage of gdp\n",
    "debt = pd.concat([data_frames['GGGDTACAA188N.csv'].set_index('DATE'),\n",
    "                  data_frames['DEBTTLUSA188A.csv'].set_index('DATE')],axis=1).dropna()\n",
    "debt['rel_debt']=debt['GGGDTACAA188N']-debt['DEBTTLUSA188A']\n",
    "debt = debt.reset_index()\n",
    "debt['index']=debt['index'].astype(str).str[:4].astype(int)\n",
    "debt=debt.set_index('index')\n",
    "#Test1\n",
    "dftest_1 = adfuller(debt['rel_debt'].diff().dropna())\n",
    "dftest_1_output = pd.Series(dftest_1[0:4], index=['Test Statistic','p-value','#Lags Used','Number of Observations Used'])\n",
    "for key, value in dftest_1[4].items():\n",
    "    dftest_1_output['Critical Value (%s)'%key] = value\n",
    "print(dftest_1_output)"
   ]
  },
  {
   "cell_type": "code",
   "execution_count": 13,
   "metadata": {},
   "outputs": [
    {
     "name": "stdout",
     "output_type": "stream",
     "text": [
      "Test Statistic                 -5.565822\n",
      "p-value                         0.000002\n",
      "#Lags Used                      0.000000\n",
      "Number of Observations Used    32.000000\n",
      "Critical Value (1%)            -3.653520\n",
      "Critical Value (5%)            -2.957219\n",
      "Critical Value (10%)           -2.617588\n",
      "dtype: float64\n"
     ]
    }
   ],
   "source": [
    "#oil data\n",
    "oil = data_frames['DCOILWTICO.csv']\n",
    "oil['DATE']=oil['DATE'].astype(str).str[:4].astype(int)\n",
    "oil = oil.set_index('DATE')\n",
    "#Test1\n",
    "dftest_1 = adfuller(np.log(oil['DCOILWTICO']).diff().dropna())\n",
    "dftest_1_output = pd.Series(dftest_1[0:4], index=['Test Statistic','p-value','#Lags Used','Number of Observations Used'])\n",
    "for key, value in dftest_1[4].items():\n",
    "    dftest_1_output['Critical Value (%s)'%key] = value\n",
    "print(dftest_1_output)"
   ]
  },
  {
   "cell_type": "code",
   "execution_count": 14,
   "metadata": {},
   "outputs": [],
   "source": [
    "#merge data on year/date/time index\n",
    "data = pd.concat([exchange_rate['AEXCAUS'],\n",
    "           np.log(oil['DCOILWTICO']),\n",
    "           np.log(tot['tot']),\n",
    "           cpi_ir['CPI_IR'],\n",
    "           debt['rel_debt'],\n",
    "           ri_ir['RI_IR']\n",
    "          ],\n",
    "          axis=1).dropna()"
   ]
  },
  {
   "cell_type": "code",
   "execution_count": 15,
   "metadata": {},
   "outputs": [
    {
     "name": "stdout",
     "output_type": "stream",
     "text": [
      "Johansen cointegration test using trace test statistic with 1% significance level\n",
      "=====================================\n",
      "r_0 r_1 test statistic critical value\n",
      "-------------------------------------\n",
      "  0   6          158.7          117.0\n",
      "  1   6          113.2          87.77\n",
      "  2   6          74.49          62.52\n",
      "  3   6          40.90          41.08\n",
      "-------------------------------------\n"
     ]
    }
   ],
   "source": [
    "from statsmodels.tsa.vector_ar.vecm import VECM, select_coint_rank\n",
    "from statsmodels.tsa.vector_ar.var_model import VAR\n",
    "#trace rank\n",
    "#k_ar_diff set to 1 since all variables are unit root at diff = 1\n",
    "vec_rank = select_coint_rank(data, det_order = 1, k_ar_diff = 1, method = 'trace', signif=0.01)\n",
    "print(vec_rank.summary())"
   ]
  },
  {
   "cell_type": "code",
   "execution_count": 16,
   "metadata": {},
   "outputs": [
    {
     "name": "stdout",
     "output_type": "stream",
     "text": [
      "Johansen cointegration test using maximum eigenvalue test statistic with 1% significance level\n",
      "=====================================\n",
      "r_0 r_1 test statistic critical value\n",
      "-------------------------------------\n",
      "  0   1          45.45          49.41\n",
      "-------------------------------------\n"
     ]
    }
   ],
   "source": [
    "#eigen rank\n",
    "#k_ar_diff set to 1 since all variables are unit root at diff = 1\n",
    "vec_rank2 = select_coint_rank(data, det_order = 1, k_ar_diff = 1, method = 'maxeig', signif=0.01)\n",
    "print(vec_rank2.summary())"
   ]
  },
  {
   "cell_type": "code",
   "execution_count": 17,
   "metadata": {},
   "outputs": [
    {
     "name": "stderr",
     "output_type": "stream",
     "text": [
      "/Users/pepar-mapillary/anaconda3/envs/monthly-report/lib/python3.7/site-packages/statsmodels/tsa/base/tsa_model.py:214: ValueWarning: An unsupported index was provided and will be ignored when e.g. forecasting.\n",
      "  ' ignored when e.g. forecasting.', ValueWarning)\n"
     ]
    },
    {
     "data": {
      "text/plain": [
       "array([[ 1.33176605,  3.69606504,  4.58260817,  0.80225258, -6.93338653,\n",
       "        -0.57422957],\n",
       "       [ 1.32647635,  3.68573575,  4.58089539,  0.5637793 , -7.54561967,\n",
       "        -0.75237394],\n",
       "       [ 1.32126363,  3.68773151,  4.58329772,  0.53452886, -6.61322582,\n",
       "        -0.75987698],\n",
       "       [ 1.3219041 ,  3.69820423,  4.58419088,  0.47444889, -6.97647   ,\n",
       "        -0.74864364],\n",
       "       [ 1.32231193,  3.69369227,  4.58347503,  0.53955262, -6.79508494,\n",
       "        -0.7435151 ]])"
      ]
     },
     "execution_count": 17,
     "metadata": {},
     "output_type": "execute_result"
    }
   ],
   "source": [
    "#fit model and print predictions (i have no idea what predictions is returning, future values, in-sample values?)\n",
    "#k_ar_diff set to 1 since all variables are unit root at diff = 1\n",
    "#coint_rank - i have set at one but this may be incorrect\n",
    "vecm = VECM(endog = data, k_ar_diff = 1, coint_rank =1, deterministic = 'ci')\n",
    "vecm_fit = vecm.fit()\n",
    "vecm_fit.predict()"
   ]
  },
  {
   "cell_type": "code",
   "execution_count": 19,
   "metadata": {},
   "outputs": [
    {
     "data": {
      "text/html": [
       "<div>\n",
       "<style scoped>\n",
       "    .dataframe tbody tr th:only-of-type {\n",
       "        vertical-align: middle;\n",
       "    }\n",
       "\n",
       "    .dataframe tbody tr th {\n",
       "        vertical-align: top;\n",
       "    }\n",
       "\n",
       "    .dataframe thead th {\n",
       "        text-align: right;\n",
       "    }\n",
       "</style>\n",
       "<table border=\"1\" class=\"dataframe\">\n",
       "  <thead>\n",
       "    <tr style=\"text-align: right;\">\n",
       "      <th></th>\n",
       "      <th>AEXCAUS</th>\n",
       "      <th>DCOILWTICO</th>\n",
       "      <th>tot</th>\n",
       "      <th>CPI_IR</th>\n",
       "      <th>rel_debt</th>\n",
       "      <th>RI_IR</th>\n",
       "    </tr>\n",
       "  </thead>\n",
       "  <tbody>\n",
       "    <tr>\n",
       "      <th>1989</th>\n",
       "      <td>1.1842</td>\n",
       "      <td>2.977338</td>\n",
       "      <td>4.555806</td>\n",
       "      <td>0.156619</td>\n",
       "      <td>32.359600</td>\n",
       "      <td>1.282208</td>\n",
       "    </tr>\n",
       "    <tr>\n",
       "      <th>1990</th>\n",
       "      <td>1.1668</td>\n",
       "      <td>3.199757</td>\n",
       "      <td>4.535689</td>\n",
       "      <td>-0.617479</td>\n",
       "      <td>33.331056</td>\n",
       "      <td>2.158130</td>\n",
       "    </tr>\n",
       "    <tr>\n",
       "      <th>1991</th>\n",
       "      <td>1.1460</td>\n",
       "      <td>3.069975</td>\n",
       "      <td>4.517240</td>\n",
       "      <td>1.390900</td>\n",
       "      <td>37.183403</td>\n",
       "      <td>1.643709</td>\n",
       "    </tr>\n",
       "    <tr>\n",
       "      <th>1992</th>\n",
       "      <td>1.2085</td>\n",
       "      <td>3.024104</td>\n",
       "      <td>4.503656</td>\n",
       "      <td>-1.538687</td>\n",
       "      <td>42.834856</td>\n",
       "      <td>1.059834</td>\n",
       "    </tr>\n",
       "    <tr>\n",
       "      <th>1993</th>\n",
       "      <td>1.2902</td>\n",
       "      <td>2.914099</td>\n",
       "      <td>4.487370</td>\n",
       "      <td>-1.086578</td>\n",
       "      <td>46.485860</td>\n",
       "      <td>1.396584</td>\n",
       "    </tr>\n",
       "    <tr>\n",
       "      <th>1994</th>\n",
       "      <td>1.3664</td>\n",
       "      <td>2.844702</td>\n",
       "      <td>4.481704</td>\n",
       "      <td>-2.441879</td>\n",
       "      <td>50.128518</td>\n",
       "      <td>1.227959</td>\n",
       "    </tr>\n",
       "    <tr>\n",
       "      <th>1995</th>\n",
       "      <td>1.3725</td>\n",
       "      <td>2.913915</td>\n",
       "      <td>4.507414</td>\n",
       "      <td>-0.656660</td>\n",
       "      <td>52.877465</td>\n",
       "      <td>1.581792</td>\n",
       "    </tr>\n",
       "    <tr>\n",
       "      <th>1996</th>\n",
       "      <td>1.3638</td>\n",
       "      <td>3.096445</td>\n",
       "      <td>4.525338</td>\n",
       "      <td>-1.360673</td>\n",
       "      <td>53.505231</td>\n",
       "      <td>0.791581</td>\n",
       "    </tr>\n",
       "    <tr>\n",
       "      <th>1997</th>\n",
       "      <td>1.3849</td>\n",
       "      <td>3.025692</td>\n",
       "      <td>4.516787</td>\n",
       "      <td>-0.716474</td>\n",
       "      <td>51.158530</td>\n",
       "      <td>-0.209427</td>\n",
       "    </tr>\n",
       "    <tr>\n",
       "      <th>1998</th>\n",
       "      <td>1.4836</td>\n",
       "      <td>2.668760</td>\n",
       "      <td>4.476235</td>\n",
       "      <td>-0.556337</td>\n",
       "      <td>52.161851</td>\n",
       "      <td>0.014886</td>\n",
       "    </tr>\n",
       "    <tr>\n",
       "      <th>1999</th>\n",
       "      <td>1.4858</td>\n",
       "      <td>2.962433</td>\n",
       "      <td>4.490354</td>\n",
       "      <td>-0.453184</td>\n",
       "      <td>51.237723</td>\n",
       "      <td>-0.095565</td>\n",
       "    </tr>\n",
       "    <tr>\n",
       "      <th>2000</th>\n",
       "      <td>1.4855</td>\n",
       "      <td>3.413736</td>\n",
       "      <td>4.532105</td>\n",
       "      <td>-0.657417</td>\n",
       "      <td>47.173880</td>\n",
       "      <td>-0.103755</td>\n",
       "    </tr>\n",
       "    <tr>\n",
       "      <th>2001</th>\n",
       "      <td>1.5487</td>\n",
       "      <td>3.257447</td>\n",
       "      <td>4.521095</td>\n",
       "      <td>-0.301051</td>\n",
       "      <td>66.297152</td>\n",
       "      <td>0.462772</td>\n",
       "    </tr>\n",
       "    <tr>\n",
       "      <th>2002</th>\n",
       "      <td>1.5704</td>\n",
       "      <td>3.265185</td>\n",
       "      <td>4.497282</td>\n",
       "      <td>0.672362</td>\n",
       "      <td>25.773979</td>\n",
       "      <td>0.680074</td>\n",
       "    </tr>\n",
       "    <tr>\n",
       "      <th>2003</th>\n",
       "      <td>1.4008</td>\n",
       "      <td>3.436411</td>\n",
       "      <td>4.550907</td>\n",
       "      <td>0.488468</td>\n",
       "      <td>19.670354</td>\n",
       "      <td>0.795544</td>\n",
       "    </tr>\n",
       "    <tr>\n",
       "      <th>2004</th>\n",
       "      <td>1.3017</td>\n",
       "      <td>3.725839</td>\n",
       "      <td>4.594485</td>\n",
       "      <td>-0.819978</td>\n",
       "      <td>15.211610</td>\n",
       "      <td>0.305440</td>\n",
       "    </tr>\n",
       "    <tr>\n",
       "      <th>2005</th>\n",
       "      <td>1.2115</td>\n",
       "      <td>4.036667</td>\n",
       "      <td>4.629089</td>\n",
       "      <td>-1.179195</td>\n",
       "      <td>14.091039</td>\n",
       "      <td>-0.223071</td>\n",
       "    </tr>\n",
       "    <tr>\n",
       "      <th>2006</th>\n",
       "      <td>1.1340</td>\n",
       "      <td>4.190483</td>\n",
       "      <td>4.639607</td>\n",
       "      <td>-1.223919</td>\n",
       "      <td>14.449863</td>\n",
       "      <td>-0.582914</td>\n",
       "    </tr>\n",
       "    <tr>\n",
       "      <th>2007</th>\n",
       "      <td>1.0734</td>\n",
       "      <td>4.281385</td>\n",
       "      <td>4.669164</td>\n",
       "      <td>-0.714289</td>\n",
       "      <td>11.115029</td>\n",
       "      <td>-0.359400</td>\n",
       "    </tr>\n",
       "    <tr>\n",
       "      <th>2008</th>\n",
       "      <td>1.0660</td>\n",
       "      <td>4.601880</td>\n",
       "      <td>4.711630</td>\n",
       "      <td>-1.468829</td>\n",
       "      <td>3.968770</td>\n",
       "      <td>-0.070518</td>\n",
       "    </tr>\n",
       "    <tr>\n",
       "      <th>2009</th>\n",
       "      <td>1.1412</td>\n",
       "      <td>4.126335</td>\n",
       "      <td>4.616087</td>\n",
       "      <td>0.655013</td>\n",
       "      <td>3.217064</td>\n",
       "      <td>-0.026048</td>\n",
       "    </tr>\n",
       "    <tr>\n",
       "      <th>2010</th>\n",
       "      <td>1.0298</td>\n",
       "      <td>4.375451</td>\n",
       "      <td>4.667722</td>\n",
       "      <td>0.136829</td>\n",
       "      <td>-4.125274</td>\n",
       "      <td>0.020973</td>\n",
       "    </tr>\n",
       "    <tr>\n",
       "      <th>2011</th>\n",
       "      <td>0.9887</td>\n",
       "      <td>4.552622</td>\n",
       "      <td>4.700708</td>\n",
       "      <td>-0.244707</td>\n",
       "      <td>-8.147785</td>\n",
       "      <td>-0.002797</td>\n",
       "    </tr>\n",
       "    <tr>\n",
       "      <th>2012</th>\n",
       "      <td>0.9995</td>\n",
       "      <td>4.543862</td>\n",
       "      <td>4.685522</td>\n",
       "      <td>-0.553659</td>\n",
       "      <td>-8.633413</td>\n",
       "      <td>0.070910</td>\n",
       "    </tr>\n",
       "    <tr>\n",
       "      <th>2013</th>\n",
       "      <td>1.0300</td>\n",
       "      <td>4.584789</td>\n",
       "      <td>4.691786</td>\n",
       "      <td>-0.526541</td>\n",
       "      <td>-9.861603</td>\n",
       "      <td>-0.088874</td>\n",
       "    </tr>\n",
       "    <tr>\n",
       "      <th>2014</th>\n",
       "      <td>1.1043</td>\n",
       "      <td>4.534450</td>\n",
       "      <td>4.677715</td>\n",
       "      <td>0.284413</td>\n",
       "      <td>-10.671271</td>\n",
       "      <td>-0.310003</td>\n",
       "    </tr>\n",
       "    <tr>\n",
       "      <th>2015</th>\n",
       "      <td>1.2791</td>\n",
       "      <td>3.884790</td>\n",
       "      <td>4.605170</td>\n",
       "      <td>1.006614</td>\n",
       "      <td>-5.527921</td>\n",
       "      <td>-0.614138</td>\n",
       "    </tr>\n",
       "    <tr>\n",
       "      <th>2016</th>\n",
       "      <td>1.3243</td>\n",
       "      <td>3.768006</td>\n",
       "      <td>4.594056</td>\n",
       "      <td>0.167177</td>\n",
       "      <td>-7.201115</td>\n",
       "      <td>-0.589909</td>\n",
       "    </tr>\n",
       "  </tbody>\n",
       "</table>\n",
       "</div>"
      ],
      "text/plain": [
       "      AEXCAUS  DCOILWTICO       tot    CPI_IR   rel_debt     RI_IR\n",
       "1989   1.1842    2.977338  4.555806  0.156619  32.359600  1.282208\n",
       "1990   1.1668    3.199757  4.535689 -0.617479  33.331056  2.158130\n",
       "1991   1.1460    3.069975  4.517240  1.390900  37.183403  1.643709\n",
       "1992   1.2085    3.024104  4.503656 -1.538687  42.834856  1.059834\n",
       "1993   1.2902    2.914099  4.487370 -1.086578  46.485860  1.396584\n",
       "1994   1.3664    2.844702  4.481704 -2.441879  50.128518  1.227959\n",
       "1995   1.3725    2.913915  4.507414 -0.656660  52.877465  1.581792\n",
       "1996   1.3638    3.096445  4.525338 -1.360673  53.505231  0.791581\n",
       "1997   1.3849    3.025692  4.516787 -0.716474  51.158530 -0.209427\n",
       "1998   1.4836    2.668760  4.476235 -0.556337  52.161851  0.014886\n",
       "1999   1.4858    2.962433  4.490354 -0.453184  51.237723 -0.095565\n",
       "2000   1.4855    3.413736  4.532105 -0.657417  47.173880 -0.103755\n",
       "2001   1.5487    3.257447  4.521095 -0.301051  66.297152  0.462772\n",
       "2002   1.5704    3.265185  4.497282  0.672362  25.773979  0.680074\n",
       "2003   1.4008    3.436411  4.550907  0.488468  19.670354  0.795544\n",
       "2004   1.3017    3.725839  4.594485 -0.819978  15.211610  0.305440\n",
       "2005   1.2115    4.036667  4.629089 -1.179195  14.091039 -0.223071\n",
       "2006   1.1340    4.190483  4.639607 -1.223919  14.449863 -0.582914\n",
       "2007   1.0734    4.281385  4.669164 -0.714289  11.115029 -0.359400\n",
       "2008   1.0660    4.601880  4.711630 -1.468829   3.968770 -0.070518\n",
       "2009   1.1412    4.126335  4.616087  0.655013   3.217064 -0.026048\n",
       "2010   1.0298    4.375451  4.667722  0.136829  -4.125274  0.020973\n",
       "2011   0.9887    4.552622  4.700708 -0.244707  -8.147785 -0.002797\n",
       "2012   0.9995    4.543862  4.685522 -0.553659  -8.633413  0.070910\n",
       "2013   1.0300    4.584789  4.691786 -0.526541  -9.861603 -0.088874\n",
       "2014   1.1043    4.534450  4.677715  0.284413 -10.671271 -0.310003\n",
       "2015   1.2791    3.884790  4.605170  1.006614  -5.527921 -0.614138\n",
       "2016   1.3243    3.768006  4.594056  0.167177  -7.201115 -0.589909"
      ]
     },
     "execution_count": 19,
     "metadata": {},
     "output_type": "execute_result"
    }
   ],
   "source": [
    "data"
   ]
  },
  {
   "cell_type": "code",
   "execution_count": 20,
   "metadata": {},
   "outputs": [
    {
     "name": "stdout",
     "output_type": "stream",
     "text": [
      "[NbConvertApp] Converting notebook multivariate_analysis.ipynb to html\n",
      "[NbConvertApp] Writing 317720 bytes to multivariate_analysis.html\n",
      "[NbConvertApp] Converting notebook multivariate_analysis.ipynb to python\n",
      "[NbConvertApp] Writing 5483 bytes to multivariate_analysis.py\n"
     ]
    }
   ],
   "source": [
    "\n",
    "\n",
    "#export to other file formats\n",
    "!jupyter nbconvert --to html \"multivariate_analysis.ipynb\"\n",
    "!jupyter nbconvert --to python \"multivariate_analysis.ipynb\"\n",
    "\n"
   ]
  },
  {
   "cell_type": "code",
   "execution_count": null,
   "metadata": {},
   "outputs": [],
   "source": []
  }
 ],
 "metadata": {
  "kernelspec": {
   "display_name": "Python 3",
   "language": "python",
   "name": "python3"
  },
  "language_info": {
   "codemirror_mode": {
    "name": "ipython",
    "version": 3
   },
   "file_extension": ".py",
   "mimetype": "text/x-python",
   "name": "python",
   "nbconvert_exporter": "python",
   "pygments_lexer": "ipython3",
   "version": "3.7.3"
  }
 },
 "nbformat": 4,
 "nbformat_minor": 4
}
