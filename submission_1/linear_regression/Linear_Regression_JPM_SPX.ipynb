{
 "cells": [
  {
   "cell_type": "code",
   "execution_count": 21,
   "metadata": {},
   "outputs": [
    {
     "name": "stdout",
     "output_type": "stream",
     "text": [
      "[*********************100%***********************]  1 of 1 completed\n",
      "[*********************100%***********************]  1 of 1 completed\n",
      "slope: [0.03291303]\n",
      "intercept: 13.286039929939733\n"
     ]
    }
   ],
   "source": [
    "# -*- coding: utf-8 -*-\n",
    "\"\"\"\n",
    "Created on Fri Sep 25 17:59:57 2020\n",
    "\n",
    "@author: Hamid\n",
    "\"\"\"\n",
    "\n",
    "from sklearn import linear_model\n",
    "import yfinance as yf\n",
    "\n",
    "# Download stock data for JP Morgan and the S&P 500\n",
    "jpm=yf.download(\"JPM\", start=\"2018-02-01\", end=\"2018-12-30\")\n",
    "spx=yf.download(\"^GSPC\", start=\"2018-02-01\", end=\"2018-12-30\")\n",
    "\n",
    "# \n",
    "X = spx.iloc[:, spx.columns == 'Adj Close']\n",
    "Y = jpm['Adj Close']\n",
    "\n",
    "# Perform Linear Regression on the data\n",
    "regr = linear_model.LinearRegression()\n",
    "regr.fit(X, Y)\n",
    "\n",
    "# Get values for Linear Regression Equation\n",
    "print('slope:', regr.coef_)\n",
    "print('intercept:', regr.intercept_)"
   ]
  },
  {
   "cell_type": "code",
   "execution_count": null,
   "metadata": {},
   "outputs": [],
   "source": []
  }
 ],
 "metadata": {
  "kernelspec": {
   "display_name": "Python 3",
   "language": "python",
   "name": "python3"
  },
  "language_info": {
   "codemirror_mode": {
    "name": "ipython",
    "version": 3
   },
   "file_extension": ".py",
   "mimetype": "text/x-python",
   "name": "python",
   "nbconvert_exporter": "python",
   "pygments_lexer": "ipython3",
   "version": "3.7.3"
  }
 },
 "nbformat": 4,
 "nbformat_minor": 4
}
